{
 "cells": [
  {
   "cell_type": "markdown",
   "metadata": {},
   "source": [
    "# Lesson 2.1 Arrays: OddOccurrencesInArray"
   ]
  },
  {
   "cell_type": "markdown",
   "metadata": {},
   "source": [
    "A non-empty array A consisting of N integers is given. The array contains an odd number of elements, and each element of the array can be paired with another element that has the same value, except for one element that is left unpaired.\n",
    "\n",
    "For example, in array A such that:\n",
    "\n",
    "    A[0] = 9    A[1] = 3    A[2] = 9\n",
    "    A[3] = 3    A[4] = 9    A[5] = 7\n",
    "    A[6] = 9\n",
    "  \n",
    "  \n",
    "- the elements at indexes 0 and 2 have value 9,\n",
    "- the elements at indexes 1 and 3 have value 3,\n",
    "- the elements at indexes 4 and 6 have value 9,\n",
    "- the element at index 5 has value 7 and is unpaired.\n",
    "\n",
    "Write a function:\n",
    "\n",
    "    def solution(A)\n",
    "\n",
    "that, given an array A consisting of N integers fulfilling the above conditions, returns the value of the unpaired element.\n",
    "\n",
    "For example, given array A such that:\n",
    "\n",
    "    A[0] = 9    A[1] = 3    A[2] = 9\n",
    "    A[3] = 3    A[4] = 9    A[5] = 7\n",
    "    A[6] = 9\n",
    "  \n",
    "the function should return 7, as explained in the example above.\n",
    "\n",
    "Write an efficient algorithm for the following assumptions:\n",
    "\n",
    "- N is an odd integer within the range [1..1,000,000];\n",
    "- each element of array A is an integer within the range [1..1,000,000,000];\n",
    "- all but one of the values in A occur an even number of times."
   ]
  },
  {
   "cell_type": "code",
   "execution_count": 10,
   "metadata": {},
   "outputs": [],
   "source": [
    "# O(N*N)\n",
    "import numpy as np\n",
    "def solution1(A):\n",
    "    for item in np.unique(A):\n",
    "        num = A.count(item)\n",
    "        if num == 1:\n",
    "            return item"
   ]
  },
  {
   "cell_type": "code",
   "execution_count": 12,
   "metadata": {},
   "outputs": [
    {
     "data": {
      "text/plain": [
       "7"
      ]
     },
     "execution_count": 12,
     "metadata": {},
     "output_type": "execute_result"
    }
   ],
   "source": [
    "solution1([9,3,9,3,9,7,9])"
   ]
  },
  {
   "cell_type": "code",
   "execution_count": 17,
   "metadata": {},
   "outputs": [],
   "source": [
    "# O(N*N)\n",
    "def solution3(A):\n",
    "    for item in A:\n",
    "        num = A.count(item)\n",
    "        if num == 1:\n",
    "            return item"
   ]
  },
  {
   "cell_type": "code",
   "execution_count": 18,
   "metadata": {},
   "outputs": [
    {
     "data": {
      "text/plain": [
       "7"
      ]
     },
     "execution_count": 18,
     "metadata": {},
     "output_type": "execute_result"
    }
   ],
   "source": [
    "solution3([9,3,9,3,9,7,9])"
   ]
  },
  {
   "cell_type": "code",
   "execution_count": 20,
   "metadata": {},
   "outputs": [],
   "source": [
    "# O(N*log(N))\n",
    "def solution4(A):\n",
    "    if len(A) == 1:\n",
    "        return A[0]\n",
    "    \n",
    "    A = sorted(A)\n",
    "    for i in range(0, len(A), 2):\n",
    "        if i+1 == len(A):\n",
    "           return A[i]\n",
    "        if A[i] != A[i+1]:\n",
    "           return A[i]"
   ]
  },
  {
   "cell_type": "code",
   "execution_count": 21,
   "metadata": {},
   "outputs": [
    {
     "data": {
      "text/plain": [
       "7"
      ]
     },
     "execution_count": 21,
     "metadata": {},
     "output_type": "execute_result"
    }
   ],
   "source": [
    "solution4([9,3,9,3,9,7,9])"
   ]
  },
  {
   "cell_type": "code",
   "execution_count": 13,
   "metadata": {},
   "outputs": [],
   "source": [
    "# O(N)\n",
    "def solution2(A):\n",
    "    result = 0\n",
    "    for number in A:\n",
    "        result ^= number\n",
    "    return result"
   ]
  },
  {
   "cell_type": "code",
   "execution_count": 14,
   "metadata": {},
   "outputs": [
    {
     "data": {
      "text/plain": [
       "7"
      ]
     },
     "execution_count": 14,
     "metadata": {},
     "output_type": "execute_result"
    }
   ],
   "source": [
    "solution2([9,3,9,3,9,7,9])"
   ]
  }
 ],
 "metadata": {
  "kernelspec": {
   "display_name": "Python 3",
   "language": "python",
   "name": "python3"
  },
  "language_info": {
   "codemirror_mode": {
    "name": "ipython",
    "version": 3
   },
   "file_extension": ".py",
   "mimetype": "text/x-python",
   "name": "python",
   "nbconvert_exporter": "python",
   "pygments_lexer": "ipython3",
   "version": "3.6.9"
  }
 },
 "nbformat": 4,
 "nbformat_minor": 4
}
