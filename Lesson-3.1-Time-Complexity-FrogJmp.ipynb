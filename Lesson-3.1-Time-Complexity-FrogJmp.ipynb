{
 "cells": [
  {
   "cell_type": "markdown",
   "metadata": {},
   "source": [
    "# Lesson 3.1 Time Complexity: FrogJmp\n",
    "\n",
    "A small frog wants to get to the other side of the road. The frog is currently located at position X and wants to get to a position greater than or equal to Y. The small frog always jumps a fixed distance, D.\n",
    "\n",
    "Count the minimal number of jumps that the small frog must perform to reach its target.\n",
    "\n",
    "Write a function:\n",
    "\n",
    "    def solution(X, Y, D)\n",
    "\n",
    "that, given three integers X, Y and D, returns the minimal number of jumps from position X to a position equal to or greater than Y.\n",
    "\n",
    "For example, given:\n",
    "\n",
    "    X = 10\n",
    "    Y = 85\n",
    "    D = 30\n",
    "    \n",
    "the function should return 3, because the frog will be positioned as follows:\n",
    "\n",
    "- after the first jump, at position 10 + 30 = 40\n",
    "- after the second jump, at position 10 + 30 + 30 = 70\n",
    "- after the third jump, at position 10 + 30 + 30 + 30 = 100\n",
    "\n",
    "Write an efficient algorithm for the following assumptions:\n",
    "\n",
    "- X, Y and D are integers within the range [1..1,000,000,000];\n",
    "- X ≤ Y."
   ]
  },
  {
   "cell_type": "code",
   "execution_count": 8,
   "metadata": {},
   "outputs": [],
   "source": [
    "import math\n",
    "def solution1(X,Y,D):\n",
    "    distance = Y - X\n",
    "    jumps = math.ceil(distance / D)\n",
    "    return(jumps)"
   ]
  },
  {
   "cell_type": "code",
   "execution_count": 9,
   "metadata": {},
   "outputs": [
    {
     "data": {
      "text/plain": [
       "3"
      ]
     },
     "execution_count": 9,
     "metadata": {},
     "output_type": "execute_result"
    }
   ],
   "source": [
    "solution1(10,85,30)"
   ]
  },
  {
   "cell_type": "code",
   "execution_count": 11,
   "metadata": {},
   "outputs": [],
   "source": [
    "def solution2(X,Y,D):\n",
    "    distance = Y - X\n",
    "    if distance % D == 0:\n",
    "        return distance // D\n",
    "    else:\n",
    "        return distance // D + 1"
   ]
  },
  {
   "cell_type": "code",
   "execution_count": 12,
   "metadata": {},
   "outputs": [
    {
     "data": {
      "text/plain": [
       "3"
      ]
     },
     "execution_count": 12,
     "metadata": {},
     "output_type": "execute_result"
    }
   ],
   "source": [
    "solution2(10,85,30)"
   ]
  }
 ],
 "metadata": {
  "kernelspec": {
   "display_name": "Python 3",
   "language": "python",
   "name": "python3"
  },
  "language_info": {
   "codemirror_mode": {
    "name": "ipython",
    "version": 3
   },
   "file_extension": ".py",
   "mimetype": "text/x-python",
   "name": "python",
   "nbconvert_exporter": "python",
   "pygments_lexer": "ipython3",
   "version": "3.6.9"
  }
 },
 "nbformat": 4,
 "nbformat_minor": 4
}
