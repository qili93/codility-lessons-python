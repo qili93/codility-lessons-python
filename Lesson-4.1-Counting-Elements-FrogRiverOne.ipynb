{
 "cells": [
  {
   "cell_type": "markdown",
   "metadata": {},
   "source": [
    "# Lesson 4.1 Counting Elements: FrogRiverOne"
   ]
  },
  {
   "cell_type": "markdown",
   "metadata": {},
   "source": [
    "A small frog wants to get to the other side of a river. The frog is initially located on one bank of the river (position 0) and wants to get to the opposite bank (position X+1). Leaves fall from a tree onto the surface of the river.\n",
    "\n",
    "You are given an array A consisting of N integers representing the falling leaves. A[K] represents the position where one leaf falls at time K, measured in seconds.\n",
    "\n",
    "The goal is to find the earliest time when the frog can jump to the other side of the river. The frog can cross only when leaves appear at every position across the river from 1 to X (that is, we want to find the earliest moment when all the positions from 1 to X are covered by leaves). You may assume that the speed of the current in the river is negligibly small, i.e. the leaves do not change their positions once they fall in the river.\n",
    "\n",
    "For example, you are given integer X = 5 and array A such that:\n",
    "\n",
    "    A[0] = 1\n",
    "    A[1] = 3\n",
    "    A[2] = 1\n",
    "    A[3] = 4\n",
    "    A[4] = 2\n",
    "    A[5] = 3\n",
    "    A[6] = 5\n",
    "    A[7] = 4\n",
    "\n",
    "In second 6, a leaf falls into position 5. This is the earliest time when leaves appear in every position across the river.\n",
    "\n",
    "Write a function:\n",
    "\n",
    "    def solution(X, A)\n",
    "\n",
    "that, given a non-empty array A consisting of N integers and integer X, returns the earliest time when the frog can jump to the other side of the river.\n",
    "\n",
    "If the frog is never able to jump to the other side of the river, the function should return −1.\n",
    "\n",
    "For example, given X = 5 and array A such that:\n",
    "\n",
    "    A[0] = 1\n",
    "    A[1] = 3\n",
    "    A[2] = 1\n",
    "    A[3] = 4\n",
    "    A[4] = 2\n",
    "    A[5] = 3\n",
    "    A[6] = 5\n",
    "    A[7] = 4\n",
    "\n",
    "the function should return 6, as explained above.\n",
    "\n",
    "Write an efficient algorithm for the following assumptions:\n",
    "\n",
    "- N and X are integers within the range [1..100,000];\n",
    "- each element of array A is an integer within the range [1..X]."
   ]
  },
  {
   "cell_type": "code",
   "execution_count": 6,
   "metadata": {},
   "outputs": [],
   "source": [
    "# O(N*N) - performance is 0%\n",
    "\n",
    "def solution1(X,A):\n",
    "    stepList = list(range(1,X+1))\n",
    "    for idx,item in enumerate(A):\n",
    "        for step in stepList:\n",
    "            if item == step:\n",
    "                stepList.remove(step)\n",
    "        if len(stepList) == 0:\n",
    "            return idx"
   ]
  },
  {
   "cell_type": "code",
   "execution_count": 7,
   "metadata": {},
   "outputs": [
    {
     "data": {
      "text/plain": [
       "6"
      ]
     },
     "execution_count": 7,
     "metadata": {},
     "output_type": "execute_result"
    }
   ],
   "source": [
    "solution1(5,[1,3,1,4,2,3,5,4])"
   ]
  },
  {
   "cell_type": "code",
   "execution_count": 8,
   "metadata": {},
   "outputs": [],
   "source": [
    "# O(N)\n",
    "def solution2(X, A):\n",
    "    covered_time = [-1]*X  # Record the time, each position is covered\n",
    "    uncovered = X          # Record the number of uncovered position\n",
    "    for index in range(0,len(A)):\n",
    "        if covered_time[A[index]-1] != -1:\n",
    "            # This position is already covered\n",
    "            continue\n",
    "        else:\n",
    "            # This position is to be covered\n",
    "            covered_time[A[index]-1] = index\n",
    "            uncovered -= 1\n",
    "            if uncovered == 0:\n",
    "                # All positions are covered\n",
    "                return index\n",
    "    # Finally, some positions are not covered\n",
    "    return -1"
   ]
  },
  {
   "cell_type": "code",
   "execution_count": 9,
   "metadata": {},
   "outputs": [
    {
     "data": {
      "text/plain": [
       "6"
      ]
     },
     "execution_count": 9,
     "metadata": {},
     "output_type": "execute_result"
    }
   ],
   "source": [
    "solution2(5,[1,3,1,4,2,3,5,4])"
   ]
  },
  {
   "cell_type": "code",
   "execution_count": null,
   "metadata": {},
   "outputs": [],
   "source": []
  }
 ],
 "metadata": {
  "kernelspec": {
   "display_name": "Python 3",
   "language": "python",
   "name": "python3"
  },
  "language_info": {
   "codemirror_mode": {
    "name": "ipython",
    "version": 3
   },
   "file_extension": ".py",
   "mimetype": "text/x-python",
   "name": "python",
   "nbconvert_exporter": "python",
   "pygments_lexer": "ipython3",
   "version": "3.6.9"
  }
 },
 "nbformat": 4,
 "nbformat_minor": 4
}
