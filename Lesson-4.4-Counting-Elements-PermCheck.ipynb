{
 "cells": [
  {
   "cell_type": "markdown",
   "metadata": {},
   "source": [
    "# Lesson 4.4 Counting Elements: PermCheck"
   ]
  },
  {
   "cell_type": "markdown",
   "metadata": {},
   "source": [
    "A non-empty array A consisting of N integers is given.\n",
    "\n",
    "A permutation is a sequence containing each element from 1 to N once, and only once.\n",
    "\n",
    "For example, array A such that:\n",
    "\n",
    "    A[0] = 4\n",
    "    A[1] = 1\n",
    "    A[2] = 3\n",
    "    A[3] = 2\n",
    "    \n",
    "is a permutation, but array A such that:\n",
    "\n",
    "    A[0] = 4\n",
    "    A[1] = 1\n",
    "    A[2] = 3\n",
    "    \n",
    "is not a permutation, because value 2 is missing.\n",
    "\n",
    "The goal is to check whether array A is a permutation.\n",
    "\n",
    "Write a function:\n",
    "\n",
    "    def solution(A)\n",
    "\n",
    "that, given an array A, returns 1 if array A is a permutation and 0 if it is not.\n",
    "\n",
    "For example, given array A such that:\n",
    "\n",
    "    A[0] = 4\n",
    "    A[1] = 1\n",
    "    A[2] = 3\n",
    "    A[3] = 2\n",
    "    \n",
    "the function should return 1.\n",
    "\n",
    "Given array A such that:\n",
    "\n",
    "    A[0] = 4\n",
    "    A[1] = 1\n",
    "    A[2] = 3\n",
    "    \n",
    "the function should return 0.\n",
    "\n",
    "Write an efficient algorithm for the following assumptions:\n",
    "\n",
    "- N is an integer within the range [1..100,000];\n",
    "- each element of array A is an integer within the range [1..1,000,000,000]."
   ]
  },
  {
   "cell_type": "code",
   "execution_count": 8,
   "metadata": {},
   "outputs": [],
   "source": [
    "# O(N)\n",
    "def solution1(A):\n",
    "    numList = [0]*max(A) #O(N)\n",
    "    for item in A:\n",
    "        numList[item-1] = 1\n",
    "    if numList.count(0) > 0:\n",
    "        return 0\n",
    "    return 1"
   ]
  },
  {
   "cell_type": "code",
   "execution_count": 9,
   "metadata": {},
   "outputs": [
    {
     "data": {
      "text/plain": [
       "1"
      ]
     },
     "execution_count": 9,
     "metadata": {},
     "output_type": "execute_result"
    }
   ],
   "source": [
    "solution1([4,1,2,3])"
   ]
  },
  {
   "cell_type": "code",
   "execution_count": 10,
   "metadata": {},
   "outputs": [
    {
     "data": {
      "text/plain": [
       "0"
      ]
     },
     "execution_count": 10,
     "metadata": {},
     "output_type": "execute_result"
    }
   ],
   "source": [
    "solution1([4,1,3])"
   ]
  },
  {
   "cell_type": "code",
   "execution_count": 11,
   "metadata": {},
   "outputs": [
    {
     "data": {
      "text/plain": [
       "0"
      ]
     },
     "execution_count": 11,
     "metadata": {},
     "output_type": "execute_result"
    }
   ],
   "source": [
    "solution1([7,8,9])"
   ]
  },
  {
   "cell_type": "code",
   "execution_count": 13,
   "metadata": {},
   "outputs": [],
   "source": [
    "# O(N)\n",
    "def solution2(A):\n",
    "    numList = [0]*len(A)\n",
    "    for item in A:\n",
    "        if item > len(A):\n",
    "            return 0\n",
    "        if numList[item-1] != 0:\n",
    "            return 0\n",
    "        numList[item-1] = 1\n",
    "        \n",
    "    return 1"
   ]
  },
  {
   "cell_type": "code",
   "execution_count": 14,
   "metadata": {},
   "outputs": [
    {
     "data": {
      "text/plain": [
       "1"
      ]
     },
     "execution_count": 14,
     "metadata": {},
     "output_type": "execute_result"
    }
   ],
   "source": [
    "solution2([4,1,2,3])"
   ]
  },
  {
   "cell_type": "code",
   "execution_count": 15,
   "metadata": {},
   "outputs": [
    {
     "data": {
      "text/plain": [
       "0"
      ]
     },
     "execution_count": 15,
     "metadata": {},
     "output_type": "execute_result"
    }
   ],
   "source": [
    "solution2([4,1,3])"
   ]
  },
  {
   "cell_type": "code",
   "execution_count": 16,
   "metadata": {},
   "outputs": [
    {
     "data": {
      "text/plain": [
       "0"
      ]
     },
     "execution_count": 16,
     "metadata": {},
     "output_type": "execute_result"
    }
   ],
   "source": [
    "solution2([7,8,9])"
   ]
  },
  {
   "cell_type": "code",
   "execution_count": null,
   "metadata": {},
   "outputs": [],
   "source": []
  }
 ],
 "metadata": {
  "kernelspec": {
   "display_name": "Python 3",
   "language": "python",
   "name": "python3"
  },
  "language_info": {
   "codemirror_mode": {
    "name": "ipython",
    "version": 3
   },
   "file_extension": ".py",
   "mimetype": "text/x-python",
   "name": "python",
   "nbconvert_exporter": "python",
   "pygments_lexer": "ipython3",
   "version": "3.6.9"
  }
 },
 "nbformat": 4,
 "nbformat_minor": 4
}
